{
 "cells": [
  {
   "cell_type": "code",
   "execution_count": 11,
   "id": "3a8ea61e",
   "metadata": {},
   "outputs": [
    {
     "name": "stdout",
     "output_type": "stream",
     "text": [
      "Enter the index: 0\n",
      "[  0 390   0 211   0   0 458 231   0 532   0 816]\n",
      "The index 0 is 0 and the number of zeroes before that is 0.\n",
      "The index 1 is 390 and the number of zeroes before that is 1.\n",
      "The index 2 is 0 and the number of zeroes before that is 0.\n",
      "The index 3 is 211 and the number of zeroes before that is 1.\n",
      "The index 4 is 0 and the number of zeroes before that is 0.\n",
      "The index 5 is 0 and the number of zeroes before that is 1.\n",
      "The index 6 is 458 and the number of zeroes before that is 2.\n",
      "The index 7 is 231 and the number of zeroes before that is 0.\n",
      "The index 8 is 0 and the number of zeroes before that is 0.\n",
      "The index 9 is 532 and the number of zeroes before that is 1.\n",
      "The index 10 is 0 and the number of zeroes before that is 0.\n",
      "The index 11 is 816 and the number of zeroes before that is 1.\n"
     ]
    }
   ],
   "source": [
    "import pandas as pd\n",
    "data = pd.read_csv('C:/Users/Monica/Documents/forecast.csv')\n",
    "List = data.values\n",
    "Number = int(input(\"Enter the index: \"))\n",
    "m = List[Number]\n",
    "\n",
    "print(m)\n",
    "\n",
    "counter = 0   \n",
    "for index in range(len(m)):\n",
    "    if m[index] == 0:\n",
    "        print(\n",
    "            f\"The index {index} is {m[index]} and the number of zeroes before that is {counter}.\"\n",
    "        )\n",
    "        counter += 1\n",
    "    else:\n",
    "        print(\n",
    "            f\"The index {index} is {m[index]} and the number of zeroes before that is {counter}.\"\n",
    "        )\n",
    "        counter = 0"
   ]
  },
  {
   "cell_type": "code",
   "execution_count": null,
   "id": "f6ac5eb8",
   "metadata": {},
   "outputs": [],
   "source": [
    "List = [0, 390, 0, 211, 0, 0, 458, 231, 0, 532, 0, 816]\n",
    "counter = 0   \n",
    "for index in range(len(List)):\n",
    "    if List[index] == 0:\n",
    "        print(\n",
    "            f\"The index {index} is {List[index]} and the number of zeroes before that is {counter}.\"\n",
    "        )\n",
    "        counter += 1\n",
    "    else:\n",
    "        print(\n",
    "            f\"The index {index} is {List[index]} and the number of zeroes before that is {counter}.\"\n",
    "        )\n",
    "        counter = 0"
   ]
  }
 ],
 "metadata": {
  "kernelspec": {
   "display_name": "Python 3 (ipykernel)",
   "language": "python",
   "name": "python3"
  },
  "language_info": {
   "codemirror_mode": {
    "name": "ipython",
    "version": 3
   },
   "file_extension": ".py",
   "mimetype": "text/x-python",
   "name": "python",
   "nbconvert_exporter": "python",
   "pygments_lexer": "ipython3",
   "version": "3.9.13"
  }
 },
 "nbformat": 4,
 "nbformat_minor": 5
}
